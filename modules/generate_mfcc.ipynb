{
 "cells": [
  {
   "cell_type": "code",
   "execution_count": 540,
   "metadata": {},
   "outputs": [],
   "source": [
    "import wave\n",
    "from scipy.fftpack import fft,ifft,fftfreq\n",
    "import scipy\n",
    "import  matplotlib.pyplot as plt\n",
    "import numpy as np\n",
    "import librosa"
   ]
  },
  {
   "attachments": {},
   "cell_type": "markdown",
   "metadata": {},
   "source": [
    "# Extract Signals"
   ]
  },
  {
   "cell_type": "code",
   "execution_count": 541,
   "metadata": {},
   "outputs": [],
   "source": [
    "def read_wav(path):\n",
    "    with wave.open(path,'rb') as f:\n",
    "        params = f.getparams()\n",
    "        nchannels,sampwidth,framerate,nframes = params[:4]\n",
    "        str_data = f.readframes(nframes)\n",
    "    stereo_data = np.frombuffer(str_data,dtype = np.short)\n",
    "    stereo_data.shape=-1,2\n",
    "    mono_data = np.sum(stereo_data, axis=1)/2.0\n",
    "    return mono_data, framerate"
   ]
  },
  {
   "attachments": {},
   "cell_type": "markdown",
   "metadata": {},
   "source": [
    "# MFCC"
   ]
  },
  {
   "cell_type": "code",
   "execution_count": 542,
   "metadata": {},
   "outputs": [],
   "source": [
    "def mfcc_features(path:str, wndSec:float):  # window size (sec)\n",
    "    # get stereo time domain signal\n",
    "    wave_data, sampling_rate = read_wav(path)   # mono wave_data, sampling rate\n",
    "    \n",
    "    # MFCC\n",
    "    max_freq = 3000\n",
    "    wndSize = int(wndSec*sampling_rate)\n",
    "    wndSize += wndSize%2\n",
    "    y, sr = librosa.load(path)\n",
    "    mfcc = librosa.feature.mfcc(y=y, sr=sr, n_mfcc=12, n_fft=wndSize, n_mels=24, hop_length=wndSize//2, window='hamming', power=2, fmin=0, fmax=max_freq)\n",
    "    mfcc = abs(mfcc).T\n",
    "    \n",
    "    # log-scale short-time power\n",
    "    rms = librosa.feature.rms(y=y, frame_length=wndSize, hop_length=wndSize//2)\n",
    "    rms.shape = -1, 1\n",
    "    \n",
    "    # MFCC features\n",
    "    p = 2\n",
    "    diff0 = np.concatenate((mfcc, rms), axis=1)\n",
    "    diff1 = np.zeros(shape=diff0.shape)\n",
    "    diff2 = np.zeros(shape=diff0.shape)\n",
    "    for t in range(len(diff0)):\n",
    "        for p in range(-p, p+1):\n",
    "            diff1+=diff0[(t+p)%len(diff0)]\n",
    "    for t in range(len(diff1)):\n",
    "        for p in range(-p, p+1):\n",
    "            diff2+=diff1[(t+p)%len(diff1)]\n",
    "    mfcc_features = np.concatenate((diff0, diff1, diff2), axis=-1)\n",
    "    \n",
    "    return mfcc_features    # [frame, 39d mfcc]\n",
    "    \n"
   ]
  },
  {
   "cell_type": "code",
   "execution_count": 543,
   "metadata": {},
   "outputs": [
    {
     "name": "stdout",
     "output_type": "stream",
     "text": [
      "(622, 39)\n"
     ]
    }
   ],
   "source": [
    "mfcc = mfcc_features('../audio/I swear.wav', 0.5)\n",
    "print(mfcc.shape)"
   ]
  },
  {
   "cell_type": "code",
   "execution_count": 544,
   "metadata": {},
   "outputs": [],
   "source": [
    "def data_fft(data,time,start,end):\n",
    "    t=[]\n",
    "    y=[]\n",
    "    for i in range(len(time)):\n",
    "        if(time[i]>=start)and (time[i]<=end):\n",
    "            t = np.append(t,time[i])\n",
    "            y = np.append(y,data[0][i])\n",
    "    n = len(t)\n",
    "    yf = abs(fft(y))/n\n",
    "    yf = yf[range(int(n/2))]\n",
    "    xf =np.arange(len(yf))/abs(end-start)\n",
    "    \n",
    "    return xf,yf"
   ]
  }
 ],
 "metadata": {
  "kernelspec": {
   "display_name": "dsp",
   "language": "python",
   "name": "python3"
  },
  "language_info": {
   "codemirror_mode": {
    "name": "ipython",
    "version": 3
   },
   "file_extension": ".py",
   "mimetype": "text/x-python",
   "name": "python",
   "nbconvert_exporter": "python",
   "pygments_lexer": "ipython3",
   "version": "3.10.8"
  },
  "orig_nbformat": 4,
  "vscode": {
   "interpreter": {
    "hash": "7af83212eeb97002f7e54fc9658d4a148d3512697062cebe39932e4790f59370"
   }
  }
 },
 "nbformat": 4,
 "nbformat_minor": 2
}
